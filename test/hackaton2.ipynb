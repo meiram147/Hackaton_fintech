{
 "cells": [
  {
   "cell_type": "code",
   "execution_count": 1,
   "id": "f3b63384",
   "metadata": {},
   "outputs": [],
   "source": [
    "import numpy as np\n",
    "from sklearn.model_selection import train_test_split\n",
    "import openpyxl\n",
    "np.random.seed(1)"
   ]
  },
  {
   "cell_type": "code",
   "execution_count": 2,
   "id": "f170a2cd",
   "metadata": {},
   "outputs": [
    {
     "name": "stdout",
     "output_type": "stream",
     "text": [
      "[[0.0018, 0.0002, 0.0011, 0.0006], [0.001, 0.0011, 0.0001, 0.0006], [0.0005, 0.0013, 0.0016, 0.0013], [0.0015, 0.0004, 0.0017, 0.0007], [0.0009, 0.0007, 0.0001, 0.0016], [0.0003, 0.0014, 0.0016, 0.0003], [0.0015, 0.0013, 0.0013, 0.0016], [0.0019, 0.0017, 0.0019, 0.0001], [0.0001, 0.0007, 0.0014, 0.0015], [0.0004, 0.0013, 0.0014, 0.0003], [0.0008, 0.0019, 0.0009, 0.0008], [0.0003, 0.0012, 0.0013, 0.0001], [0.0004, 0.0016, 0.0001, 0.0012], [0.0007, 0.0017, 0.001, 0.0002], [0.0, 0.0001, 0.0003, 0.0014], [0.001, 0.0005, 0.0008, 0.0002], [0.0003, 0.0008, 0.0012, 0.0017], [0.0017, 0.0018, 0.0003, 0.0001], [0.0014, 0.0008, 0.0005, 0.0014], [0.0, 0.0011, 0.0018, 0.0015], [0.0013, 0.0014, 0.0007, 0.0004], [0.0007, 0.0015, 0.0005, 0.0015], [0.0018, 0.0018, 0.0019, 0.0014], [0.0001, 0.0004, 0.001, 0.0017], [0.0002, 0.0017, 0.0017, 0.0017], [0.0014, 0.0018, 0.0012, 0.001], [0.0017, 0.0019, 0.0004, 0.0016], [0.0011, 0.0005, 0.0016, 0.0007], [0.0002, 0.0014, 0.0002, 0.0], [0.001, 0.0011, 0.0006, 0.0014], [0.0014, 0.0018, 0.0002, 0.0015], [0.0003, 0.0017, 0.0, 0.0013], [0.0009, 0.0011, 0.0011, 0.0014], [0.0016, 0.0013, 0.0, 0.002], [0.0003, 0.0018, 0.0008, 0.0009], [0.0015, 0.0009, 0.0004, 0.002], [0.0013, 0.0003, 0.0005, 0.0006], [0.0006, 0.0018, 0.0006, 0.0019], [0.0019, 0.002, 0.0013, 0.0011], [0.0016, 0.0005, 0.0009, 0.0014], [0.0006, 0.0004, 0.0008, 0.0001], [0.0015, 0.0003, 0.0002, 0.0008], [0.0001, 0.0008, 0.0002, 0.0017], [0.0003, 0.0001, 0.0004, 0.0001], [0.0012, 0.0019, 0.0018, 0.0003], [0.0003, 0.0007, 0.0009, 0.0006], [0.0003, 0.0002, 0.0009, 0.002], [0.0001, 0.0008, 0.0013, 0.0016], [0.0019, 0.0001, 0.0012, 0.0013], [0.0009, 0.0004, 0.0015, 0.0002], [0.0003, 0.0009, 0.0005, 0.0015], [0.0013, 0.0003, 0.0009, 0.0018], [0.0005, 0.0015, 0.0008, 0.0008], [0.0006, 0.0003, 0.0002, 0.0018], [0.0006, 0.0009, 0.0008, 0.0001], [0.0009, 0.001, 0.0009, 0.0005], [0.0013, 0.0019, 0.0006, 0.0014], [0.0016, 0.0008, 0.0008, 0.0001], [0.0009, 0.0017, 0.0011, 0.0004], [0.0003, 0.0016, 0.0008, 0.002], [0.0004, 0.0006, 0.0007, 0.0003], [0.0013, 0.0, 0.0006, 0.0017], [0.0003, 0.0007, 0.0008, 0.0002]]\n",
      "[0.0428, 0.0165, 0.3575, 0.1264, 0.0, 0.3766, 0.4524, 1.1611, 0.0679, 0.3055, 0.4465, 0.2328, 0.0128, 0.4046, -0.0011, 0.059, 0.092, 0.1872, 0.0768, 0.2013, 0.259, 0.1425, 1.206, 0.0132, 0.5202, 0.6732, 0.2432, 0.1245, 0.0448, 0.1232, 0.0882, -0.0221, 0.2266, -0.026, 0.2862, 0.0684, 0.0222, 0.225, 0.992, 0.0875, 0.0316, 0.0084, 0.0008, 0.0015, 1.0545, 0.0588, 0.005, 0.0808, 0.0227, 0.0772, 0.0405, 0.0378, 0.228, 0.0, 0.1071, 0.166, 0.3382, 0.1528, 0.4794, 0.2112, 0.0402, 0.0, 0.0546]\n"
     ]
    }
   ],
   "source": [
    "wookbook2 = openpyxl.load_workbook(\"integer.xlsx\")\n",
    "\n",
    "worksheet2 = wookbook2.active\n",
    "\n",
    "int_input_data = []\n",
    "int_result = []\n",
    "print(int_input_data)\n",
    "print(int_result)"
   ]
  },
  {
   "cell_type": "code",
   "execution_count": 3,
   "id": "a2522679",
   "metadata": {},
   "outputs": [],
   "source": [
    "def relu(x):\n",
    "    return (x > 0) * x\n",
    "\n",
    "def relu2deriv(output): \n",
    "    return output > 0 \n",
    "alpha = 0.1\n",
    "hidden_size = 6"
   ]
  },
  {
   "cell_type": "code",
   "execution_count": 4,
   "id": "332612c2",
   "metadata": {},
   "outputs": [],
   "source": [
    "data = np.array(int_input_data)\n",
    "result = np.array(int_result).T"
   ]
  },
  {
   "cell_type": "code",
   "execution_count": 5,
   "id": "87a20327",
   "metadata": {},
   "outputs": [],
   "source": [
    "weights_0_1 = 2 * np.random.random((4, 40)) - 1 \n",
    "weights_1_2 = 2 * np.random.random((40, 1)) - 1"
   ]
  },
  {
   "cell_type": "code",
   "execution_count": 6,
   "id": "987941d8",
   "metadata": {},
   "outputs": [],
   "source": [
    "for iteration in range(1): \n",
    "    layer_2_error = 0\n",
    "    \n",
    "    for i in range(len(data)):\n",
    "        layer_0 = data[i:i+1]\n",
    "        layer_1 = relu(np.dot(layer_0, weights_0_1)) \n",
    "        layer_2 = np.dot(layer_1, weights_1_2)\n",
    "        layer_2_error += np.sum((layer_2 - result[i:i+1]) ** 2)\n",
    "        layer_2_delta = (layer_2 - result[i:i+1]) \n",
    "        layer_1_delta = layer_2_delta.dot(weights_1_2.T) * relu2deriv(layer_1)\n",
    "        weights_1_2 -= alpha * layer_1.T.dot(layer_2_delta) \n",
    "        weights_0_1 -= alpha * layer_0.T.dot(layer_1_delta)\n",
    "    \n",
    "    if(iteration % 100 == 9):\n",
    "        print(\"Error: \" + str(layer_2_error))"
   ]
  },
  {
   "cell_type": "code",
   "execution_count": 10,
   "id": "401947f8",
   "metadata": {},
   "outputs": [
    {
     "name": "stdout",
     "output_type": "stream",
     "text": [
      "[0.00141917]\n",
      "[0.0004, 0.0006, 0.0007, 0.0003]\n"
     ]
    }
   ],
   "source": [
    "test = np.array(int_input_data[60])\n",
    "layer_0 = test\n",
    "layer_1 = np.dot(layer_0, weights_0_1) \n",
    "layer_1 = relu(layer_1)\n",
    "layer_2 = np.dot(layer_1, weights_1_2)\n",
    "\n",
    "print(layer_2)\n",
    "print(int_input_data[60])"
   ]
  },
  {
   "cell_type": "code",
   "execution_count": 47,
   "id": "80dc1225",
   "metadata": {},
   "outputs": [],
   "source": [
    "X = data\n",
    "y = result\n",
    "X_train, X_test, y_train, y_test = train_test_split(X, y, test_size=0.2, random_state=0)"
   ]
  },
  {
   "cell_type": "code",
   "execution_count": 48,
   "id": "beacd6b4",
   "metadata": {},
   "outputs": [
    {
     "data": {
      "text/plain": [
       "LinearRegression()"
      ]
     },
     "execution_count": 48,
     "metadata": {},
     "output_type": "execute_result"
    }
   ],
   "source": [
    "from sklearn.linear_model import LinearRegression \n",
    "regressor = LinearRegression() \n",
    "regressor.fit(X_train, y_train)"
   ]
  },
  {
   "cell_type": "code",
   "execution_count": 49,
   "id": "15cbf524",
   "metadata": {},
   "outputs": [],
   "source": [
    "y_pred = regressor.predict(X_test)\n"
   ]
  },
  {
   "cell_type": "code",
   "execution_count": 50,
   "id": "afcec3ff",
   "metadata": {},
   "outputs": [
    {
     "data": {
      "text/plain": [
       "array([[0.0003, 0.0001, 0.0004, 0.0001],\n",
       "       [0.0009, 0.0004, 0.0015, 0.0002],\n",
       "       [0.0003, 0.0007, 0.0008, 0.0002],\n",
       "       [0.0013, 0.0003, 0.0009, 0.0018],\n",
       "       [0.0009, 0.0011, 0.0011, 0.0014],\n",
       "       [0.0003, 0.0018, 0.0008, 0.0009],\n",
       "       [0.001 , 0.0011, 0.0006, 0.0014],\n",
       "       [0.0003, 0.0002, 0.0009, 0.002 ],\n",
       "       [0.0003, 0.0012, 0.0013, 0.0001],\n",
       "       [0.0005, 0.0013, 0.0016, 0.0013],\n",
       "       [0.0017, 0.0019, 0.0004, 0.0016],\n",
       "       [0.0004, 0.0006, 0.0007, 0.0003],\n",
       "       [0.0009, 0.0007, 0.0001, 0.0016]])"
      ]
     },
     "execution_count": 50,
     "metadata": {},
     "output_type": "execute_result"
    }
   ],
   "source": [
    "X_test"
   ]
  },
  {
   "cell_type": "code",
   "execution_count": 51,
   "id": "52aa2548",
   "metadata": {},
   "outputs": [
    {
     "data": {
      "text/plain": [
       "array([-0.27772535,  0.23233977,  0.01545592,  0.05899078,  0.2950262 ,\n",
       "        0.32014342,  0.15340972, -0.11081775,  0.31327337,  0.45214079,\n",
       "        0.41335166, -0.03084555, -0.13100905])"
      ]
     },
     "execution_count": 51,
     "metadata": {},
     "output_type": "execute_result"
    }
   ],
   "source": [
    "y_pred"
   ]
  },
  {
   "cell_type": "code",
   "execution_count": null,
   "id": "36c45a6c",
   "metadata": {},
   "outputs": [],
   "source": []
  }
 ],
 "metadata": {
  "kernelspec": {
   "display_name": "Python 3 (ipykernel)",
   "language": "python",
   "name": "python3"
  },
  "language_info": {
   "codemirror_mode": {
    "name": "ipython",
    "version": 3
   },
   "file_extension": ".py",
   "mimetype": "text/x-python",
   "name": "python",
   "nbconvert_exporter": "python",
   "pygments_lexer": "ipython3",
   "version": "3.10.3"
  }
 },
 "nbformat": 4,
 "nbformat_minor": 5
}
